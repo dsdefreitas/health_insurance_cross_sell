{
 "cells": [
  {
   "cell_type": "markdown",
   "id": "0b0d7eab",
   "metadata": {},
   "source": [
    "# 0.0 IMPORTS"
   ]
  },
  {
   "cell_type": "code",
   "execution_count": 2,
   "id": "97449731",
   "metadata": {
    "ExecuteTime": {
     "end_time": "2023-06-09T18:25:40.244802Z",
     "start_time": "2023-06-09T18:25:33.158971Z"
    }
   },
   "outputs": [],
   "source": [
    "import pandas as pd\n",
    "import inflection\n",
    "import seaborn as sns\n",
    "import scikitplot as skplt \n",
    "from sklearn import preprocessing as pp \n",
    "from sklearn import model_selection as ms \n",
    "from sklearn import ensemble as en \n",
    "from sklearn import neighbors as nh\n",
    "from sklearn import linear_model as lm \n",
    "\n",
    "pd.set_option('display.float_format', '{:.6f}'.format)\n",
    "from matplotlib import pyplot as plt"
   ]
  },
  {
   "cell_type": "markdown",
   "id": "d2d6f760",
   "metadata": {},
   "source": [
    "## 0.1 Carregando Base de Dados"
   ]
  },
  {
   "cell_type": "code",
   "execution_count": 3,
   "id": "2af9259c",
   "metadata": {
    "ExecuteTime": {
     "end_time": "2023-06-09T18:25:47.522006Z",
     "start_time": "2023-06-09T18:25:46.641988Z"
    }
   },
   "outputs": [],
   "source": [
    "df_raw = pd.read_csv(\"C:\\\\Users\\\\Matheus\\\\repos\\\\health_insurance_cross_sell_oficial\\\\data\\\\raw\\\\train.csv\") "
   ]
  },
  {
   "cell_type": "code",
   "execution_count": 4,
   "id": "4b229b3d",
   "metadata": {
    "ExecuteTime": {
     "end_time": "2023-06-09T18:26:05.145716Z",
     "start_time": "2023-06-09T18:26:05.094748Z"
    }
   },
   "outputs": [
    {
     "data": {
      "text/html": [
       "<div>\n",
       "<style scoped>\n",
       "    .dataframe tbody tr th:only-of-type {\n",
       "        vertical-align: middle;\n",
       "    }\n",
       "\n",
       "    .dataframe tbody tr th {\n",
       "        vertical-align: top;\n",
       "    }\n",
       "\n",
       "    .dataframe thead th {\n",
       "        text-align: right;\n",
       "    }\n",
       "</style>\n",
       "<table border=\"1\" class=\"dataframe\">\n",
       "  <thead>\n",
       "    <tr style=\"text-align: right;\">\n",
       "      <th></th>\n",
       "      <th>id</th>\n",
       "      <th>Gender</th>\n",
       "      <th>Age</th>\n",
       "      <th>Driving_License</th>\n",
       "      <th>Region_Code</th>\n",
       "      <th>Previously_Insured</th>\n",
       "      <th>Vehicle_Age</th>\n",
       "      <th>Vehicle_Damage</th>\n",
       "      <th>Annual_Premium</th>\n",
       "      <th>Policy_Sales_Channel</th>\n",
       "      <th>Vintage</th>\n",
       "      <th>Response</th>\n",
       "    </tr>\n",
       "  </thead>\n",
       "  <tbody>\n",
       "    <tr>\n",
       "      <th>0</th>\n",
       "      <td>1</td>\n",
       "      <td>Male</td>\n",
       "      <td>44</td>\n",
       "      <td>1</td>\n",
       "      <td>28.000000</td>\n",
       "      <td>0</td>\n",
       "      <td>&gt; 2 Years</td>\n",
       "      <td>Yes</td>\n",
       "      <td>40454.000000</td>\n",
       "      <td>26.000000</td>\n",
       "      <td>217</td>\n",
       "      <td>1</td>\n",
       "    </tr>\n",
       "    <tr>\n",
       "      <th>1</th>\n",
       "      <td>2</td>\n",
       "      <td>Male</td>\n",
       "      <td>76</td>\n",
       "      <td>1</td>\n",
       "      <td>3.000000</td>\n",
       "      <td>0</td>\n",
       "      <td>1-2 Year</td>\n",
       "      <td>No</td>\n",
       "      <td>33536.000000</td>\n",
       "      <td>26.000000</td>\n",
       "      <td>183</td>\n",
       "      <td>0</td>\n",
       "    </tr>\n",
       "    <tr>\n",
       "      <th>2</th>\n",
       "      <td>3</td>\n",
       "      <td>Male</td>\n",
       "      <td>47</td>\n",
       "      <td>1</td>\n",
       "      <td>28.000000</td>\n",
       "      <td>0</td>\n",
       "      <td>&gt; 2 Years</td>\n",
       "      <td>Yes</td>\n",
       "      <td>38294.000000</td>\n",
       "      <td>26.000000</td>\n",
       "      <td>27</td>\n",
       "      <td>1</td>\n",
       "    </tr>\n",
       "    <tr>\n",
       "      <th>3</th>\n",
       "      <td>4</td>\n",
       "      <td>Male</td>\n",
       "      <td>21</td>\n",
       "      <td>1</td>\n",
       "      <td>11.000000</td>\n",
       "      <td>1</td>\n",
       "      <td>&lt; 1 Year</td>\n",
       "      <td>No</td>\n",
       "      <td>28619.000000</td>\n",
       "      <td>152.000000</td>\n",
       "      <td>203</td>\n",
       "      <td>0</td>\n",
       "    </tr>\n",
       "    <tr>\n",
       "      <th>4</th>\n",
       "      <td>5</td>\n",
       "      <td>Female</td>\n",
       "      <td>29</td>\n",
       "      <td>1</td>\n",
       "      <td>41.000000</td>\n",
       "      <td>1</td>\n",
       "      <td>&lt; 1 Year</td>\n",
       "      <td>No</td>\n",
       "      <td>27496.000000</td>\n",
       "      <td>152.000000</td>\n",
       "      <td>39</td>\n",
       "      <td>0</td>\n",
       "    </tr>\n",
       "  </tbody>\n",
       "</table>\n",
       "</div>"
      ],
      "text/plain": [
       "   id  Gender  Age  Driving_License  Region_Code  Previously_Insured   \n",
       "0   1    Male   44                1    28.000000                   0  \\\n",
       "1   2    Male   76                1     3.000000                   0   \n",
       "2   3    Male   47                1    28.000000                   0   \n",
       "3   4    Male   21                1    11.000000                   1   \n",
       "4   5  Female   29                1    41.000000                   1   \n",
       "\n",
       "  Vehicle_Age Vehicle_Damage  Annual_Premium  Policy_Sales_Channel  Vintage   \n",
       "0   > 2 Years            Yes    40454.000000             26.000000      217  \\\n",
       "1    1-2 Year             No    33536.000000             26.000000      183   \n",
       "2   > 2 Years            Yes    38294.000000             26.000000       27   \n",
       "3    < 1 Year             No    28619.000000            152.000000      203   \n",
       "4    < 1 Year             No    27496.000000            152.000000       39   \n",
       "\n",
       "   Response  \n",
       "0         1  \n",
       "1         0  \n",
       "2         1  \n",
       "3         0  \n",
       "4         0  "
      ]
     },
     "execution_count": 4,
     "metadata": {},
     "output_type": "execute_result"
    }
   ],
   "source": [
    "df_raw.head()"
   ]
  },
  {
   "cell_type": "markdown",
   "id": "0cd15aef",
   "metadata": {},
   "source": [
    "# 1.0 Descrição dos Dados"
   ]
  },
  {
   "cell_type": "code",
   "execution_count": 6,
   "id": "932e37f6",
   "metadata": {
    "ExecuteTime": {
     "end_time": "2023-06-09T18:26:45.024169Z",
     "start_time": "2023-06-09T18:26:44.984192Z"
    }
   },
   "outputs": [],
   "source": [
    "df1 = df_raw.copy()"
   ]
  },
  {
   "cell_type": "code",
   "execution_count": 7,
   "id": "6d853ef9",
   "metadata": {
    "ExecuteTime": {
     "end_time": "2023-06-09T18:26:52.873622Z",
     "start_time": "2023-06-09T18:26:52.854634Z"
    }
   },
   "outputs": [],
   "source": [
    "#transformando nomes de coluna para snake case \n",
    "\n",
    "cols_old = df_raw.columns\n",
    "\n",
    "snakecase = lambda x: inflection.underscore(x)\n",
    "\n",
    "df1.columns = list(map(snakecase, cols_old))"
   ]
  },
  {
   "cell_type": "markdown",
   "id": "594a8e9e",
   "metadata": {},
   "source": [
    "## 1.1 Dimensão dos Dados"
   ]
  },
  {
   "cell_type": "code",
   "execution_count": 8,
   "id": "c12abd31",
   "metadata": {
    "ExecuteTime": {
     "end_time": "2023-06-09T18:26:55.373032Z",
     "start_time": "2023-06-09T18:26:55.352045Z"
    }
   },
   "outputs": [
    {
     "name": "stdout",
     "output_type": "stream",
     "text": [
      "Número de linhas: 381109\n",
      "Número de colunas: 12\n"
     ]
    }
   ],
   "source": [
    "print(f\"Número de linhas: {df1.shape[0]}\")\n",
    "print(f\"Número de colunas: {df1.shape[1]}\")"
   ]
  },
  {
   "cell_type": "markdown",
   "id": "2eefa8ba",
   "metadata": {},
   "source": [
    "## 1.2 Tipo dos Dados"
   ]
  },
  {
   "cell_type": "code",
   "execution_count": 9,
   "id": "4226aed7",
   "metadata": {
    "ExecuteTime": {
     "end_time": "2023-06-09T18:26:57.081232Z",
     "start_time": "2023-06-09T18:26:57.060244Z"
    }
   },
   "outputs": [
    {
     "data": {
      "text/plain": [
       "id                        int64\n",
       "gender                   object\n",
       "age                       int64\n",
       "driving_license           int64\n",
       "region_code             float64\n",
       "previously_insured        int64\n",
       "vehicle_age              object\n",
       "vehicle_damage           object\n",
       "annual_premium          float64\n",
       "policy_sales_channel    float64\n",
       "vintage                   int64\n",
       "response                  int64\n",
       "dtype: object"
      ]
     },
     "execution_count": 9,
     "metadata": {},
     "output_type": "execute_result"
    }
   ],
   "source": [
    "df1.dtypes"
   ]
  },
  {
   "cell_type": "markdown",
   "id": "4b1f605f",
   "metadata": {},
   "source": [
    "## 1.3 Verificando Valores Nulos"
   ]
  },
  {
   "cell_type": "code",
   "execution_count": 10,
   "id": "48c84d6f",
   "metadata": {
    "ExecuteTime": {
     "end_time": "2023-06-09T18:26:58.674674Z",
     "start_time": "2023-06-09T18:26:58.584728Z"
    }
   },
   "outputs": [
    {
     "data": {
      "text/plain": [
       "id                      0\n",
       "gender                  0\n",
       "age                     0\n",
       "driving_license         0\n",
       "region_code             0\n",
       "previously_insured      0\n",
       "vehicle_age             0\n",
       "vehicle_damage          0\n",
       "annual_premium          0\n",
       "policy_sales_channel    0\n",
       "vintage                 0\n",
       "response                0\n",
       "dtype: int64"
      ]
     },
     "execution_count": 10,
     "metadata": {},
     "output_type": "execute_result"
    }
   ],
   "source": [
    "df1.isna().sum()"
   ]
  },
  {
   "cell_type": "markdown",
   "id": "cba164cc",
   "metadata": {},
   "source": [
    "## 1.4 Data Descriptive"
   ]
  },
  {
   "cell_type": "code",
   "execution_count": 11,
   "id": "c2d364bc",
   "metadata": {
    "ExecuteTime": {
     "end_time": "2023-06-09T18:27:00.975791Z",
     "start_time": "2023-06-09T18:27:00.930821Z"
    }
   },
   "outputs": [],
   "source": [
    "num_attributes = df1.select_dtypes(include = ['int64', 'float64'])\n",
    "cat_attributes = df1.select_dtypes(exclude = ['int64', 'float64', 'datetime64[ns]'])"
   ]
  },
  {
   "cell_type": "code",
   "execution_count": 12,
   "id": "06339ec5",
   "metadata": {
    "ExecuteTime": {
     "end_time": "2023-06-09T18:27:07.256036Z",
     "start_time": "2023-06-09T18:27:05.430158Z"
    }
   },
   "outputs": [
    {
     "data": {
      "text/html": [
       "<div>\n",
       "<style scoped>\n",
       "    .dataframe tbody tr th:only-of-type {\n",
       "        vertical-align: middle;\n",
       "    }\n",
       "\n",
       "    .dataframe tbody tr th {\n",
       "        vertical-align: top;\n",
       "    }\n",
       "\n",
       "    .dataframe thead th {\n",
       "        text-align: right;\n",
       "    }\n",
       "</style>\n",
       "<table border=\"1\" class=\"dataframe\">\n",
       "  <thead>\n",
       "    <tr style=\"text-align: right;\">\n",
       "      <th></th>\n",
       "      <th>attributes</th>\n",
       "      <th>min</th>\n",
       "      <th>max</th>\n",
       "      <th>range</th>\n",
       "      <th>mean</th>\n",
       "      <th>median</th>\n",
       "      <th>std</th>\n",
       "      <th>skew</th>\n",
       "      <th>kurtosis</th>\n",
       "    </tr>\n",
       "  </thead>\n",
       "  <tbody>\n",
       "    <tr>\n",
       "      <th>0</th>\n",
       "      <td>id</td>\n",
       "      <td>1.000000</td>\n",
       "      <td>381109.000000</td>\n",
       "      <td>381108.000000</td>\n",
       "      <td>190555.000000</td>\n",
       "      <td>190555.000000</td>\n",
       "      <td>110016.691870</td>\n",
       "      <td>0.000000</td>\n",
       "      <td>-1.200000</td>\n",
       "    </tr>\n",
       "    <tr>\n",
       "      <th>1</th>\n",
       "      <td>age</td>\n",
       "      <td>20.000000</td>\n",
       "      <td>85.000000</td>\n",
       "      <td>65.000000</td>\n",
       "      <td>38.822584</td>\n",
       "      <td>36.000000</td>\n",
       "      <td>15.511591</td>\n",
       "      <td>0.672539</td>\n",
       "      <td>-0.565655</td>\n",
       "    </tr>\n",
       "    <tr>\n",
       "      <th>2</th>\n",
       "      <td>driving_license</td>\n",
       "      <td>0.000000</td>\n",
       "      <td>1.000000</td>\n",
       "      <td>1.000000</td>\n",
       "      <td>0.997869</td>\n",
       "      <td>1.000000</td>\n",
       "      <td>0.046109</td>\n",
       "      <td>-21.595182</td>\n",
       "      <td>464.354302</td>\n",
       "    </tr>\n",
       "    <tr>\n",
       "      <th>3</th>\n",
       "      <td>region_code</td>\n",
       "      <td>0.000000</td>\n",
       "      <td>52.000000</td>\n",
       "      <td>52.000000</td>\n",
       "      <td>26.388807</td>\n",
       "      <td>28.000000</td>\n",
       "      <td>13.229871</td>\n",
       "      <td>-0.115266</td>\n",
       "      <td>-0.867857</td>\n",
       "    </tr>\n",
       "    <tr>\n",
       "      <th>4</th>\n",
       "      <td>previously_insured</td>\n",
       "      <td>0.000000</td>\n",
       "      <td>1.000000</td>\n",
       "      <td>1.000000</td>\n",
       "      <td>0.458210</td>\n",
       "      <td>0.000000</td>\n",
       "      <td>0.498251</td>\n",
       "      <td>0.167747</td>\n",
       "      <td>-1.971871</td>\n",
       "    </tr>\n",
       "    <tr>\n",
       "      <th>5</th>\n",
       "      <td>annual_premium</td>\n",
       "      <td>2630.000000</td>\n",
       "      <td>540165.000000</td>\n",
       "      <td>537535.000000</td>\n",
       "      <td>30564.389581</td>\n",
       "      <td>31669.000000</td>\n",
       "      <td>17213.132474</td>\n",
       "      <td>1.766087</td>\n",
       "      <td>34.004569</td>\n",
       "    </tr>\n",
       "    <tr>\n",
       "      <th>6</th>\n",
       "      <td>policy_sales_channel</td>\n",
       "      <td>1.000000</td>\n",
       "      <td>163.000000</td>\n",
       "      <td>162.000000</td>\n",
       "      <td>112.034295</td>\n",
       "      <td>133.000000</td>\n",
       "      <td>54.203924</td>\n",
       "      <td>-0.900008</td>\n",
       "      <td>-0.970810</td>\n",
       "    </tr>\n",
       "    <tr>\n",
       "      <th>7</th>\n",
       "      <td>vintage</td>\n",
       "      <td>10.000000</td>\n",
       "      <td>299.000000</td>\n",
       "      <td>289.000000</td>\n",
       "      <td>154.347397</td>\n",
       "      <td>154.000000</td>\n",
       "      <td>83.671194</td>\n",
       "      <td>0.003030</td>\n",
       "      <td>-1.200688</td>\n",
       "    </tr>\n",
       "    <tr>\n",
       "      <th>8</th>\n",
       "      <td>response</td>\n",
       "      <td>0.000000</td>\n",
       "      <td>1.000000</td>\n",
       "      <td>1.000000</td>\n",
       "      <td>0.122563</td>\n",
       "      <td>0.000000</td>\n",
       "      <td>0.327935</td>\n",
       "      <td>2.301906</td>\n",
       "      <td>3.298788</td>\n",
       "    </tr>\n",
       "  </tbody>\n",
       "</table>\n",
       "</div>"
      ],
      "text/plain": [
       "             attributes         min           max         range          mean   \n",
       "0                    id    1.000000 381109.000000 381108.000000 190555.000000  \\\n",
       "1                   age   20.000000     85.000000     65.000000     38.822584   \n",
       "2       driving_license    0.000000      1.000000      1.000000      0.997869   \n",
       "3           region_code    0.000000     52.000000     52.000000     26.388807   \n",
       "4    previously_insured    0.000000      1.000000      1.000000      0.458210   \n",
       "5        annual_premium 2630.000000 540165.000000 537535.000000  30564.389581   \n",
       "6  policy_sales_channel    1.000000    163.000000    162.000000    112.034295   \n",
       "7               vintage   10.000000    299.000000    289.000000    154.347397   \n",
       "8              response    0.000000      1.000000      1.000000      0.122563   \n",
       "\n",
       "         median           std       skew   kurtosis  \n",
       "0 190555.000000 110016.691870   0.000000  -1.200000  \n",
       "1     36.000000     15.511591   0.672539  -0.565655  \n",
       "2      1.000000      0.046109 -21.595182 464.354302  \n",
       "3     28.000000     13.229871  -0.115266  -0.867857  \n",
       "4      0.000000      0.498251   0.167747  -1.971871  \n",
       "5  31669.000000  17213.132474   1.766087  34.004569  \n",
       "6    133.000000     54.203924  -0.900008  -0.970810  \n",
       "7    154.000000     83.671194   0.003030  -1.200688  \n",
       "8      0.000000      0.327935   2.301906   3.298788  "
      ]
     },
     "execution_count": 12,
     "metadata": {},
     "output_type": "execute_result"
    }
   ],
   "source": [
    "# Tendência Central - Média, Mediana\n",
    "ct1 = pd.DataFrame( num_attributes.apply( np.mean ) ).T\n",
    "ct2 = pd.DataFrame( num_attributes.apply( np.median ) ).T\n",
    "\n",
    "# Dispersão - std, min, max, range, skew, kurtosis\n",
    "d1 = pd.DataFrame( num_attributes.apply( np.std ) ).T \n",
    "d2 = pd.DataFrame( num_attributes.apply( min ) ).T \n",
    "d3 = pd.DataFrame( num_attributes.apply( max ) ).T \n",
    "d4 = pd.DataFrame( num_attributes.apply( lambda x: x.max() - x.min() ) ).T \n",
    "d5 = pd.DataFrame( num_attributes.apply( lambda x: x.skew() ) ).T \n",
    "d6 = pd.DataFrame( num_attributes.apply( lambda x: x.kurtosis() ) ).T \n",
    "\n",
    "# concatenar\n",
    "m = pd.concat( [d2, d3, d4, ct1, ct2, d1, d5, d6] ).T.reset_index()\n",
    "m.columns = ['attributes', 'min', 'max', 'range', 'mean', 'median', 'std', 'skew', 'kurtosis']\n",
    "m"
   ]
  },
  {
   "cell_type": "markdown",
   "id": "c9b5d9e1",
   "metadata": {},
   "source": [
    "# 2.0 Feature Engineering"
   ]
  },
  {
   "cell_type": "code",
   "execution_count": 13,
   "id": "c2ebb21c",
   "metadata": {
    "ExecuteTime": {
     "end_time": "2023-06-09T18:27:12.419591Z",
     "start_time": "2023-06-09T18:27:12.374619Z"
    }
   },
   "outputs": [],
   "source": [
    "df2 = df1.copy()"
   ]
  },
  {
   "cell_type": "code",
   "execution_count": 14,
   "id": "a64ff524",
   "metadata": {
    "ExecuteTime": {
     "end_time": "2023-06-09T18:27:14.623907Z",
     "start_time": "2023-06-09T18:27:14.593927Z"
    }
   },
   "outputs": [
    {
     "data": {
      "text/html": [
       "<div>\n",
       "<style scoped>\n",
       "    .dataframe tbody tr th:only-of-type {\n",
       "        vertical-align: middle;\n",
       "    }\n",
       "\n",
       "    .dataframe tbody tr th {\n",
       "        vertical-align: top;\n",
       "    }\n",
       "\n",
       "    .dataframe thead th {\n",
       "        text-align: right;\n",
       "    }\n",
       "</style>\n",
       "<table border=\"1\" class=\"dataframe\">\n",
       "  <thead>\n",
       "    <tr style=\"text-align: right;\">\n",
       "      <th></th>\n",
       "      <th>id</th>\n",
       "      <th>gender</th>\n",
       "      <th>age</th>\n",
       "      <th>driving_license</th>\n",
       "      <th>region_code</th>\n",
       "      <th>previously_insured</th>\n",
       "      <th>vehicle_age</th>\n",
       "      <th>vehicle_damage</th>\n",
       "      <th>annual_premium</th>\n",
       "      <th>policy_sales_channel</th>\n",
       "      <th>vintage</th>\n",
       "      <th>response</th>\n",
       "    </tr>\n",
       "  </thead>\n",
       "  <tbody>\n",
       "    <tr>\n",
       "      <th>0</th>\n",
       "      <td>1</td>\n",
       "      <td>Male</td>\n",
       "      <td>44</td>\n",
       "      <td>1</td>\n",
       "      <td>28.000000</td>\n",
       "      <td>0</td>\n",
       "      <td>&gt; 2 Years</td>\n",
       "      <td>Yes</td>\n",
       "      <td>40454.000000</td>\n",
       "      <td>26.000000</td>\n",
       "      <td>217</td>\n",
       "      <td>1</td>\n",
       "    </tr>\n",
       "    <tr>\n",
       "      <th>1</th>\n",
       "      <td>2</td>\n",
       "      <td>Male</td>\n",
       "      <td>76</td>\n",
       "      <td>1</td>\n",
       "      <td>3.000000</td>\n",
       "      <td>0</td>\n",
       "      <td>1-2 Year</td>\n",
       "      <td>No</td>\n",
       "      <td>33536.000000</td>\n",
       "      <td>26.000000</td>\n",
       "      <td>183</td>\n",
       "      <td>0</td>\n",
       "    </tr>\n",
       "    <tr>\n",
       "      <th>2</th>\n",
       "      <td>3</td>\n",
       "      <td>Male</td>\n",
       "      <td>47</td>\n",
       "      <td>1</td>\n",
       "      <td>28.000000</td>\n",
       "      <td>0</td>\n",
       "      <td>&gt; 2 Years</td>\n",
       "      <td>Yes</td>\n",
       "      <td>38294.000000</td>\n",
       "      <td>26.000000</td>\n",
       "      <td>27</td>\n",
       "      <td>1</td>\n",
       "    </tr>\n",
       "    <tr>\n",
       "      <th>3</th>\n",
       "      <td>4</td>\n",
       "      <td>Male</td>\n",
       "      <td>21</td>\n",
       "      <td>1</td>\n",
       "      <td>11.000000</td>\n",
       "      <td>1</td>\n",
       "      <td>&lt; 1 Year</td>\n",
       "      <td>No</td>\n",
       "      <td>28619.000000</td>\n",
       "      <td>152.000000</td>\n",
       "      <td>203</td>\n",
       "      <td>0</td>\n",
       "    </tr>\n",
       "    <tr>\n",
       "      <th>4</th>\n",
       "      <td>5</td>\n",
       "      <td>Female</td>\n",
       "      <td>29</td>\n",
       "      <td>1</td>\n",
       "      <td>41.000000</td>\n",
       "      <td>1</td>\n",
       "      <td>&lt; 1 Year</td>\n",
       "      <td>No</td>\n",
       "      <td>27496.000000</td>\n",
       "      <td>152.000000</td>\n",
       "      <td>39</td>\n",
       "      <td>0</td>\n",
       "    </tr>\n",
       "  </tbody>\n",
       "</table>\n",
       "</div>"
      ],
      "text/plain": [
       "   id  gender  age  driving_license  region_code  previously_insured   \n",
       "0   1    Male   44                1    28.000000                   0  \\\n",
       "1   2    Male   76                1     3.000000                   0   \n",
       "2   3    Male   47                1    28.000000                   0   \n",
       "3   4    Male   21                1    11.000000                   1   \n",
       "4   5  Female   29                1    41.000000                   1   \n",
       "\n",
       "  vehicle_age vehicle_damage  annual_premium  policy_sales_channel  vintage   \n",
       "0   > 2 Years            Yes    40454.000000             26.000000      217  \\\n",
       "1    1-2 Year             No    33536.000000             26.000000      183   \n",
       "2   > 2 Years            Yes    38294.000000             26.000000       27   \n",
       "3    < 1 Year             No    28619.000000            152.000000      203   \n",
       "4    < 1 Year             No    27496.000000            152.000000       39   \n",
       "\n",
       "   response  \n",
       "0         1  \n",
       "1         0  \n",
       "2         1  \n",
       "3         0  \n",
       "4         0  "
      ]
     },
     "execution_count": 14,
     "metadata": {},
     "output_type": "execute_result"
    }
   ],
   "source": [
    "df2.head()"
   ]
  },
  {
   "cell_type": "code",
   "execution_count": 16,
   "id": "504375e0",
   "metadata": {
    "ExecuteTime": {
     "end_time": "2023-06-09T18:27:48.437382Z",
     "start_time": "2023-06-09T18:27:48.127574Z"
    }
   },
   "outputs": [],
   "source": [
    "df2['vehicle_age'] = df2['vehicle_age'].apply(lambda x: 'over_2_years' if x == '> 2 Years' \n",
    "                                              else 'between_1_and_2_years' if x == '1-2 Year' \n",
    "                                              else 'bellow_1_year')\n",
    "\n",
    "df2['vehicle_damage'] = df2['vehicle_damage'].apply(lambda x: 1 if x == 'Yes' \n",
    "                                              else 0 )"
   ]
  },
  {
   "cell_type": "markdown",
   "id": "06ec0908",
   "metadata": {},
   "source": [
    "# 3.0 Filtragem de Dados"
   ]
  },
  {
   "cell_type": "code",
   "execution_count": 19,
   "id": "b9e437af",
   "metadata": {
    "ExecuteTime": {
     "end_time": "2023-06-09T18:28:08.976839Z",
     "start_time": "2023-06-09T18:28:08.906882Z"
    }
   },
   "outputs": [],
   "source": [
    "df3 = df2.copy()"
   ]
  },
  {
   "cell_type": "code",
   "execution_count": 37,
   "id": "27e703e7",
   "metadata": {
    "ExecuteTime": {
     "end_time": "2023-06-04T17:17:40.621492Z",
     "start_time": "2023-06-04T17:17:40.609501Z"
    }
   },
   "outputs": [],
   "source": [
    "#Não tem nada discrepante para ser filtrado de acordo com restrições do negócio"
   ]
  },
  {
   "cell_type": "markdown",
   "id": "50721ca4",
   "metadata": {},
   "source": [
    "# 4.0 Análise Exploratória dos Dados"
   ]
  },
  {
   "cell_type": "code",
   "execution_count": 20,
   "id": "db95528b",
   "metadata": {
    "ExecuteTime": {
     "end_time": "2023-06-09T18:28:20.289522Z",
     "start_time": "2023-06-09T18:28:20.262539Z"
    }
   },
   "outputs": [],
   "source": [
    "df4 = df3.copy()"
   ]
  },
  {
   "cell_type": "markdown",
   "id": "df288e61",
   "metadata": {},
   "source": [
    "## 1.0 Análise Univariada"
   ]
  },
  {
   "cell_type": "code",
   "execution_count": 42,
   "id": "4cb53fc8",
   "metadata": {
    "ExecuteTime": {
     "end_time": "2023-06-04T17:24:40.002391Z",
     "start_time": "2023-06-04T17:24:39.982404Z"
    }
   },
   "outputs": [
    {
     "data": {
      "text/plain": [
       "Index(['id', 'gender', 'age', 'driving_license', 'region_code',\n",
       "       'previously_insured', 'vehicle_age', 'vehicle_damage', 'annual_premium',\n",
       "       'policy_sales_channel', 'vintage', 'response'],\n",
       "      dtype='object')"
      ]
     },
     "execution_count": 42,
     "metadata": {},
     "output_type": "execute_result"
    }
   ],
   "source": [
    "df4.columns"
   ]
  },
  {
   "cell_type": "markdown",
   "id": "bdcdc5af",
   "metadata": {},
   "source": [
    "## 1.1 Age "
   ]
  },
  {
   "cell_type": "code",
   "execution_count": 21,
   "id": "d4edbfa3",
   "metadata": {
    "ExecuteTime": {
     "end_time": "2023-06-09T18:28:25.886558Z",
     "start_time": "2023-06-09T18:28:25.353672Z"
    },
    "cell_style": "center"
   },
   "outputs": [
    {
     "data": {
      "image/png": "[encoded data removed]",
      "text/plain": [
       "<Figure size 640x480 with 1 Axes>"
      ]
     },
     "metadata": {},
     "output_type": "display_data"
    }
   ],
   "source": [
    "sns.boxplot(x='response', y = 'age', data = df4);"
   ]
  },
  {
   "cell_type": "code",
   "execution_count": 22,
   "id": "f03eb3a3",
   "metadata": {
    "ExecuteTime": {
     "end_time": "2023-06-09T18:28:32.159014Z",
     "start_time": "2023-06-09T18:28:31.141217Z"
    },
    "cell_style": "split"
   },
   "outputs": [
    {
     "data": {
      "image/png": "[encoded data removed]",
      "text/plain": [
       "<Figure size 640x480 with 1 Axes>"
      ]
     },
     "metadata": {},
     "output_type": "display_data"
    }
   ],
   "source": [
    "aux1 = df4.loc[df4['response'] == 0, 'age']\n",
    "sns.histplot(aux1);"
   ]
  },
  {
   "cell_type": "code",
   "execution_count": 23,
   "id": "55e62bff",
   "metadata": {
    "ExecuteTime": {
     "end_time": "2023-06-09T18:28:34.334512Z",
     "start_time": "2023-06-09T18:28:33.659928Z"
    },
    "cell_style": "split"
   },
   "outputs": [
    {
     "data": {
      "image/png": "[encoded data removed]",
      "text/plain": [
       "<Figure size 640x480 with 1 Axes>"
      ]
     },
     "metadata": {},
     "output_type": "display_data"
    }
   ],
   "source": [
    "aux2 = df4.loc[df4['response'] == 1, 'age']\n",
    "sns.histplot(aux2);"
   ]
  },
  {
   "cell_type": "markdown",
   "id": "c9e7b445",
   "metadata": {},
   "source": [
    "## 1.2 annual_premium"
   ]
  },
  {
   "cell_type": "code",
   "execution_count": 17,
   "id": "82de072e",
   "metadata": {
    "ExecuteTime": {
     "end_time": "2023-06-06T00:30:40.900918Z",
     "start_time": "2023-06-06T00:30:40.390232Z"
    },
    "cell_style": "center"
   },
   "outputs": [
    {
     "data": {
      "image/png": "[encoded data removed]",
      "text/plain": [
       "<Figure size 640x480 with 1 Axes>"
      ]
     },
     "metadata": {},
     "output_type": "display_data"
    }
   ],
   "source": [
    "#boxplot com filtro retirando outliers. \n",
    "\n",
    "aux = df4[df4['annual_premium'] < 80000]\n",
    "\n",
    "sns.boxplot(x = 'response', y = 'annual_premium', data = aux);"
   ]
  },
  {
   "cell_type": "code",
   "execution_count": 26,
   "id": "4de21d96",
   "metadata": {
    "ExecuteTime": {
     "end_time": "2023-06-09T18:28:55.454093Z",
     "start_time": "2023-06-09T18:28:54.292805Z"
    },
    "cell_style": "split",
    "scrolled": true
   },
   "outputs": [
    {
     "data": {
      "image/png": "[encoded data removed]",
      "text/plain": [
       "<Figure size 640x480 with 1 Axes>"
      ]
     },
     "metadata": {},
     "output_type": "display_data"
    }
   ],
   "source": [
    "aux2 = aux.loc[aux['response'] == 1, 'annual_premium']\n",
    "sns.histplot(aux2);"
   ]
  },
  {
   "cell_type": "code",
   "execution_count": 25,
   "id": "ae929fbe",
   "metadata": {
    "ExecuteTime": {
     "end_time": "2023-06-09T18:28:50.266742Z",
     "start_time": "2023-06-09T18:28:48.586675Z"
    },
    "cell_style": "split",
    "scrolled": false
   },
   "outputs": [
    {
     "data": {
      "image/png": "[encoded data removed]",
      "text/plain": [
       "<Figure size 640x480 with 1 Axes>"
      ]
     },
     "metadata": {},
     "output_type": "display_data"
    }
   ],
   "source": [
    "#como há uma concentração enorme nos valores de menor custo, impossibilitando a vizualização do histograma das classes, foram \n",
    "#considerados valores maiores que 10000.\n",
    "\n",
    "aux = df4[(df4['annual_premium'] > 10000) & (df4['annual_premium'] < 80000)]\n",
    "aux1 = aux.loc[aux['response'] == 0, 'annual_premium']\n",
    "sns.histplot(aux1);"
   ]
  },
  {
   "cell_type": "markdown",
   "id": "78afef0c",
   "metadata": {},
   "source": [
    "## 1.3 driving_license"
   ]
  },
  {
   "cell_type": "code",
   "execution_count": 20,
   "id": "252712c9",
   "metadata": {
    "ExecuteTime": {
     "end_time": "2023-06-06T00:30:49.741926Z",
     "start_time": "2023-06-06T00:30:49.682962Z"
    }
   },
   "outputs": [
    {
     "data": {
      "text/html": [
       "<div>\n",
       "<style scoped>\n",
       "    .dataframe tbody tr th:only-of-type {\n",
       "        vertical-align: middle;\n",
       "    }\n",
       "\n",
       "    .dataframe tbody tr th {\n",
       "        vertical-align: top;\n",
       "    }\n",
       "\n",
       "    .dataframe thead th {\n",
       "        text-align: right;\n",
       "    }\n",
       "</style>\n",
       "<table border=\"1\" class=\"dataframe\">\n",
       "  <thead>\n",
       "    <tr style=\"text-align: right;\">\n",
       "      <th></th>\n",
       "      <th>response</th>\n",
       "      <th>driving_license</th>\n",
       "      <th>driving_license_perc</th>\n",
       "    </tr>\n",
       "  </thead>\n",
       "  <tbody>\n",
       "    <tr>\n",
       "      <th>0</th>\n",
       "      <td>0</td>\n",
       "      <td>333628</td>\n",
       "      <td>0.877283</td>\n",
       "    </tr>\n",
       "    <tr>\n",
       "      <th>1</th>\n",
       "      <td>1</td>\n",
       "      <td>46669</td>\n",
       "      <td>0.122717</td>\n",
       "    </tr>\n",
       "  </tbody>\n",
       "</table>\n",
       "</div>"
      ],
      "text/plain": [
       "   response  driving_license  driving_license_perc\n",
       "0         0           333628              0.877283\n",
       "1         1            46669              0.122717"
      ]
     },
     "execution_count": 20,
     "metadata": {},
     "output_type": "execute_result"
    }
   ],
   "source": [
    "aux = df4[['response', 'driving_license']].groupby('response').sum().reset_index()\n",
    "aux['driving_license_perc'] = aux['driving_license'] / aux['driving_license'].sum()\n",
    "aux\n",
    "\n",
    "# 88% das pessoas habilitadas não comprariam o seguro. \n",
    "# 12% das pessoas habilitadas comprariam. "
   ]
  },
  {
   "cell_type": "markdown",
   "id": "6b90b4dd",
   "metadata": {},
   "source": [
    "## 1.4 region_code"
   ]
  },
  {
   "cell_type": "code",
   "execution_count": 93,
   "id": "c68cd016",
   "metadata": {
    "ExecuteTime": {
     "end_time": "2023-06-04T20:43:50.626488Z",
     "start_time": "2023-06-04T20:43:50.197753Z"
    }
   },
   "outputs": [
    {
     "data": {
      "image/png": "[encoded data removed]",
      "text/plain": [
       "<Figure size 640x480 with 1 Axes>"
      ]
     },
     "metadata": {},
     "output_type": "display_data"
    }
   ],
   "source": [
    "#Não se tem, nesse cenário, uma discriminação de classes pelas variáveis. Elas estão majoritariamente misturadas. \n",
    "\n",
    "aux0 = df4[['id', 'region_code', 'response']].groupby(['region_code', 'response']).count().reset_index() \n",
    "\n",
    "sns.scatterplot(x= 'region_code', y = 'id', hue = 'response', data = aux0);"
   ]
  },
  {
   "cell_type": "markdown",
   "id": "c5d1a452",
   "metadata": {
    "ExecuteTime": {
     "end_time": "2023-06-04T17:25:00.296508Z",
     "start_time": "2023-06-04T17:25:00.278519Z"
    }
   },
   "source": [
    "## 1.5 'gender'"
   ]
  },
  {
   "cell_type": "markdown",
   "id": "a248c171",
   "metadata": {
    "ExecuteTime": {
     "end_time": "2023-06-04T17:25:46.254756Z",
     "start_time": "2023-06-04T17:25:46.244763Z"
    }
   },
   "source": [
    "## 1.6 'previously_insured'"
   ]
  },
  {
   "cell_type": "code",
   "execution_count": 103,
   "id": "15365f3c",
   "metadata": {
    "ExecuteTime": {
     "end_time": "2023-06-05T15:39:50.771820Z",
     "start_time": "2023-06-05T15:39:50.669880Z"
    }
   },
   "outputs": [
    {
     "data": {
      "text/html": [
       "<div>\n",
       "<style scoped>\n",
       "    .dataframe tbody tr th:only-of-type {\n",
       "        vertical-align: middle;\n",
       "    }\n",
       "\n",
       "    .dataframe tbody tr th {\n",
       "        vertical-align: top;\n",
       "    }\n",
       "\n",
       "    .dataframe thead th {\n",
       "        text-align: right;\n",
       "    }\n",
       "</style>\n",
       "<table border=\"1\" class=\"dataframe\">\n",
       "  <thead>\n",
       "    <tr style=\"text-align: right;\">\n",
       "      <th>response</th>\n",
       "      <th>0</th>\n",
       "      <th>1</th>\n",
       "    </tr>\n",
       "    <tr>\n",
       "      <th>previously_insured</th>\n",
       "      <th></th>\n",
       "      <th></th>\n",
       "    </tr>\n",
       "  </thead>\n",
       "  <tbody>\n",
       "    <tr>\n",
       "      <th>0</th>\n",
       "      <td>0.774546</td>\n",
       "      <td>0.225454</td>\n",
       "    </tr>\n",
       "    <tr>\n",
       "      <th>1</th>\n",
       "      <td>0.999095</td>\n",
       "      <td>0.000905</td>\n",
       "    </tr>\n",
       "  </tbody>\n",
       "</table>\n",
       "</div>"
      ],
      "text/plain": [
       "response                  0        1\n",
       "previously_insured                  \n",
       "0                  0.774546 0.225454\n",
       "1                  0.999095 0.000905"
      ]
     },
     "execution_count": 103,
     "metadata": {},
     "output_type": "execute_result"
    }
   ],
   "source": [
    "pd.crosstab(df4['previously_insured'], df4['response']).apply(lambda x: x/x.sum(), axis = 1)"
   ]
  },
  {
   "cell_type": "markdown",
   "id": "d27b3477",
   "metadata": {
    "ExecuteTime": {
     "end_time": "2023-06-04T17:26:12.313487Z",
     "start_time": "2023-06-04T17:26:12.295498Z"
    }
   },
   "source": [
    "## 1.7 'vehicle_age'"
   ]
  },
  {
   "cell_type": "code",
   "execution_count": 107,
   "id": "911f2b22",
   "metadata": {
    "ExecuteTime": {
     "end_time": "2023-06-05T15:53:45.999081Z",
     "start_time": "2023-06-05T15:53:45.863165Z"
    }
   },
   "outputs": [
    {
     "data": {
      "text/html": [
       "<div>\n",
       "<style scoped>\n",
       "    .dataframe tbody tr th:only-of-type {\n",
       "        vertical-align: middle;\n",
       "    }\n",
       "\n",
       "    .dataframe tbody tr th {\n",
       "        vertical-align: top;\n",
       "    }\n",
       "\n",
       "    .dataframe thead th {\n",
       "        text-align: right;\n",
       "    }\n",
       "</style>\n",
       "<table border=\"1\" class=\"dataframe\">\n",
       "  <thead>\n",
       "    <tr style=\"text-align: right;\">\n",
       "      <th></th>\n",
       "      <th>vehicle_age</th>\n",
       "      <th>response</th>\n",
       "      <th>proportion</th>\n",
       "    </tr>\n",
       "  </thead>\n",
       "  <tbody>\n",
       "    <tr>\n",
       "      <th>0</th>\n",
       "      <td>between_1_and_2_years</td>\n",
       "      <td>0</td>\n",
       "      <td>0.434285</td>\n",
       "    </tr>\n",
       "    <tr>\n",
       "      <th>1</th>\n",
       "      <td>bellow_1_year</td>\n",
       "      <td>0</td>\n",
       "      <td>0.413488</td>\n",
       "    </tr>\n",
       "    <tr>\n",
       "      <th>2</th>\n",
       "      <td>between_1_and_2_years</td>\n",
       "      <td>1</td>\n",
       "      <td>0.091328</td>\n",
       "    </tr>\n",
       "    <tr>\n",
       "      <th>3</th>\n",
       "      <td>over_2_years</td>\n",
       "      <td>0</td>\n",
       "      <td>0.029663</td>\n",
       "    </tr>\n",
       "    <tr>\n",
       "      <th>4</th>\n",
       "      <td>bellow_1_year</td>\n",
       "      <td>1</td>\n",
       "      <td>0.018897</td>\n",
       "    </tr>\n",
       "    <tr>\n",
       "      <th>5</th>\n",
       "      <td>over_2_years</td>\n",
       "      <td>1</td>\n",
       "      <td>0.012338</td>\n",
       "    </tr>\n",
       "  </tbody>\n",
       "</table>\n",
       "</div>"
      ],
      "text/plain": [
       "             vehicle_age  response  proportion\n",
       "0  between_1_and_2_years         0    0.434285\n",
       "1          bellow_1_year         0    0.413488\n",
       "2  between_1_and_2_years         1    0.091328\n",
       "3           over_2_years         0    0.029663\n",
       "4          bellow_1_year         1    0.018897\n",
       "5           over_2_years         1    0.012338"
      ]
     },
     "execution_count": 107,
     "metadata": {},
     "output_type": "execute_result"
    }
   ],
   "source": [
    "df4[['vehicle_age', 'response']].value_counts(normalize = True).reset_index()"
   ]
  },
  {
   "cell_type": "markdown",
   "id": "3424cb40",
   "metadata": {
    "ExecuteTime": {
     "end_time": "2023-06-04T17:27:19.268562Z",
     "start_time": "2023-06-04T17:27:19.257569Z"
    }
   },
   "source": [
    "# 1.8 policy_sales_channel"
   ]
  },
  {
   "cell_type": "code",
   "execution_count": null,
   "id": "78748e9b",
   "metadata": {},
   "outputs": [],
   "source": [
    "#canais até 80 "
   ]
  },
  {
   "cell_type": "code",
   "execution_count": 137,
   "id": "cccbcc89",
   "metadata": {
    "ExecuteTime": {
     "end_time": "2023-06-05T23:16:21.104767Z",
     "start_time": "2023-06-05T23:16:18.333469Z"
    },
    "hide_input": true
   },
   "outputs": [
    {
     "data": {
      "image/png": "[encoded data removed]",
      "text/plain": [
       "<Figure size 2400x1200 with 1 Axes>"
      ]
     },
     "metadata": {},
     "output_type": "display_data"
    }
   ],
   "source": [
    "import numpy as np\n",
    "import matplotlib.pyplot as plt\n",
    "import matplotlib.patches as mpatches\n",
    "\n",
    "# set the figure size\n",
    "plt.figure(figsize = (24, 12))\n",
    "\n",
    "# de 1 a 80 \n",
    "\n",
    "df4_below_80 = df4[df4.policy_sales_channel <= 80]\n",
    "\n",
    "total = df4_below_80[['policy_sales_channel', 'response']].groupby('policy_sales_channel').count().reset_index()\n",
    "interested = df4_below_80[['policy_sales_channel', 'response']].groupby('policy_sales_channel').sum().reset_index()\n",
    "interested['response'] = [i / j * 100 for i,j in zip(interested['response'], total['response'])]\n",
    "total['response'] = [i / j * 100 for i,j in zip(total['response'], total['response'])]\n",
    "\n",
    "# bar chart 1 -> top bars (group of 'smoker=No')\n",
    "bar1 = sns.barplot(x=\"policy_sales_channel\",  y=\"response\", data=total, color='darkblue')\n",
    "\n",
    "# bar chart 2 -> bottom bars (group of 'smoker=Yes')\n",
    "bar2 = sns.barplot(x=\"policy_sales_channel\", y=\"response\", data=interested, color='lightblue')\n",
    "\n",
    "# add legend\n",
    "top_bar = mpatches.Patch(color='darkblue', label='Not interested')\n",
    "bottom_bar = mpatches.Patch(color='lightblue', label='Interested')\n",
    "plt.legend(handles=[top_bar, bottom_bar])\n",
    "\n",
    "plt.xticks(rotation=90)\n",
    "\n",
    "# show the graph\n",
    "plt.show()"
   ]
  },
  {
   "cell_type": "code",
   "execution_count": null,
   "id": "a20d0e38",
   "metadata": {},
   "outputs": [],
   "source": [
    "#canais acima de 80. "
   ]
  },
  {
   "cell_type": "code",
   "execution_count": 139,
   "id": "22373012",
   "metadata": {
    "ExecuteTime": {
     "end_time": "2023-06-05T23:16:56.843216Z",
     "start_time": "2023-06-05T23:16:53.902020Z"
    },
    "hide_input": true,
    "scrolled": false
   },
   "outputs": [
    {
     "data": {
      "image/png": "[encoded data removed]",
      "text/plain": [
       "<Figure size 2400x1200 with 1 Axes>"
      ]
     },
     "metadata": {},
     "output_type": "display_data"
    }
   ],
   "source": [
    "# de 80 a 163 \n",
    "\n",
    "plt.figure(figsize = (24, 12))\n",
    "\n",
    "df4_over_80 = df4[df4.policy_sales_channel > 80]\n",
    "\n",
    "total = df4_over_80[['policy_sales_channel', 'response']].groupby('policy_sales_channel').count().reset_index()\n",
    "interested = df4_over_80[['policy_sales_channel', 'response']].groupby('policy_sales_channel').sum().reset_index()\n",
    "interested['response'] = [i / j * 100 for i,j in zip(interested['response'], total['response'])]\n",
    "total['response'] = [i / j * 100 for i,j in zip(total['response'], total['response'])]\n",
    "\n",
    "# bar chart 1 -> top bars (group of 'smoker=No')\n",
    "bar1 = sns.barplot(x=\"policy_sales_channel\",  y=\"response\", data=total, color='darkblue')\n",
    "\n",
    "# bar chart 2 -> bottom bars (group of 'smoker=Yes')\n",
    "bar2 = sns.barplot(x=\"policy_sales_channel\", y=\"response\", data=interested, color='lightblue')\n",
    "\n",
    "# add legend\n",
    "top_bar = mpatches.Patch(color='darkblue', label='Not interested')\n",
    "bottom_bar = mpatches.Patch(color='lightblue', label='Interested')\n",
    "plt.legend(handles=[top_bar, bottom_bar])\n",
    "\n",
    "plt.xticks(rotation=90)\n",
    "\n",
    "# show the graph\n",
    "plt.show()"
   ]
  },
  {
   "cell_type": "markdown",
   "id": "eb078407",
   "metadata": {
    "ExecuteTime": {
     "end_time": "2023-06-05T23:30:25.040211Z",
     "start_time": "2023-06-05T23:30:25.024220Z"
    }
   },
   "source": [
    "## 1.9 vintage"
   ]
  },
  {
   "cell_type": "code",
   "execution_count": 141,
   "id": "eb9287cd",
   "metadata": {
    "ExecuteTime": {
     "end_time": "2023-06-05T23:30:50.179989Z",
     "start_time": "2023-06-05T23:30:49.847192Z"
    },
    "cell_style": "center"
   },
   "outputs": [
    {
     "data": {
      "image/png": "[encoded data removed]",
      "text/plain": [
       "<Figure size 640x480 with 1 Axes>"
      ]
     },
     "metadata": {},
     "output_type": "display_data"
    }
   ],
   "source": [
    "sns.boxplot(x = 'response', y = 'vintage', data = df4);"
   ]
  },
  {
   "cell_type": "code",
   "execution_count": 143,
   "id": "86d59f9c",
   "metadata": {
    "ExecuteTime": {
     "end_time": "2023-06-05T23:31:27.376717Z",
     "start_time": "2023-06-05T23:31:26.575210Z"
    },
    "cell_style": "split",
    "scrolled": true
   },
   "outputs": [
    {
     "data": {
      "image/png": "[encoded data removed]",
      "text/plain": [
       "<Figure size 640x480 with 1 Axes>"
      ]
     },
     "metadata": {},
     "output_type": "display_data"
    }
   ],
   "source": [
    "aux1 = df4.loc[df4['response'] == 0, 'vintage']\n",
    "sns.histplot(aux1);"
   ]
  },
  {
   "cell_type": "code",
   "execution_count": 144,
   "id": "41cd2a42",
   "metadata": {
    "ExecuteTime": {
     "end_time": "2023-06-05T23:31:33.320823Z",
     "start_time": "2023-06-05T23:31:32.873098Z"
    },
    "cell_style": "split",
    "scrolled": false
   },
   "outputs": [
    {
     "data": {
      "image/png": "[encoded data removed]",
      "text/plain": [
       "<Figure size 640x480 with 1 Axes>"
      ]
     },
     "metadata": {},
     "output_type": "display_data"
    }
   ],
   "source": [
    "aux1 = df4.loc[df4['response'] == 1, 'vintage']\n",
    "sns.histplot(aux1);"
   ]
  },
  {
   "cell_type": "code",
   "execution_count": 146,
   "id": "d7160bb9",
   "metadata": {
    "ExecuteTime": {
     "end_time": "2023-06-05T23:32:47.621649Z",
     "start_time": "2023-06-05T23:32:47.610656Z"
    }
   },
   "outputs": [],
   "source": [
    "#conclui-se que o tempo de assegurado não é uma variável discriminatória. "
   ]
  },
  {
   "cell_type": "markdown",
   "id": "29a7808d",
   "metadata": {},
   "source": [
    "# 5.0 Preparação de Dados"
   ]
  },
  {
   "cell_type": "markdown",
   "id": "5a434f2a",
   "metadata": {},
   "source": [
    "## Separação entre treino e teste"
   ]
  },
  {
   "cell_type": "code",
   "execution_count": 120,
   "id": "c461f1e7",
   "metadata": {
    "ExecuteTime": {
     "end_time": "2023-06-09T15:13:45.385049Z",
     "start_time": "2023-06-09T15:13:30.856127Z"
    }
   },
   "outputs": [],
   "source": [
    "X = df4.drop('response', axis = 1 )\n",
    "y = df4['response'].copy() \n",
    "\n",
    "x_train, x_val, y_train, y_val = ms.train_test_split(X, y, test_size = 0.20)\n",
    "\n",
    "df5 = pd.concat([x_train, y_train], axis = 1)"
   ]
  },
  {
   "cell_type": "markdown",
   "id": "611fddbc",
   "metadata": {},
   "source": [
    "## Standardization"
   ]
  },
  {
   "cell_type": "code",
   "execution_count": 121,
   "id": "05f6545b",
   "metadata": {
    "ExecuteTime": {
     "end_time": "2023-06-09T15:13:52.693827Z",
     "start_time": "2023-06-09T15:13:52.639861Z"
    }
   },
   "outputs": [],
   "source": [
    "#annual_premium\n",
    "ss = pp.StandardScaler()\n",
    "\n",
    "df5['annual_premium'] = ss.fit_transform(df5[['annual_premium']].values)"
   ]
  },
  {
   "cell_type": "code",
   "execution_count": 122,
   "id": "35814627",
   "metadata": {
    "ExecuteTime": {
     "end_time": "2023-06-09T15:13:54.592289Z",
     "start_time": "2023-06-09T15:13:54.565306Z"
    }
   },
   "outputs": [
    {
     "data": {
      "text/plain": [
       "Index(['id', 'gender', 'age', 'driving_license', 'region_code',\n",
       "       'previously_insured', 'vehicle_age', 'vehicle_damage', 'annual_premium',\n",
       "       'policy_sales_channel', 'vintage', 'response'],\n",
       "      dtype='object')"
      ]
     },
     "execution_count": 122,
     "metadata": {},
     "output_type": "execute_result"
    }
   ],
   "source": [
    "df5.columns"
   ]
  },
  {
   "cell_type": "markdown",
   "id": "65b01c2c",
   "metadata": {},
   "source": [
    "## Rescaling"
   ]
  },
  {
   "cell_type": "code",
   "execution_count": 123,
   "id": "69510075",
   "metadata": {
    "ExecuteTime": {
     "end_time": "2023-06-09T15:13:58.101178Z",
     "start_time": "2023-06-09T15:13:58.043214Z"
    }
   },
   "outputs": [],
   "source": [
    "#salvando encoder dentro de uma variável para depois utilizar no conjunto de teste. \n",
    "\n",
    "mms_age = pp.MinMaxScaler()\n",
    "mms_vintage = pp.MinMaxScaler() \n",
    "\n",
    "#Age \n",
    "\n",
    "df5['age'] = mms_age.fit_transform(df5[['age']].values) \n",
    "\n",
    "# vintage\n",
    "\n",
    "df5['vintage'] = mms_vintage.fit_transform(df5[['vintage']].values) "
   ]
  },
  {
   "cell_type": "markdown",
   "id": "b2b1ad6f",
   "metadata": {},
   "source": [
    "## Encoder"
   ]
  },
  {
   "cell_type": "code",
   "execution_count": 124,
   "id": "acf25000",
   "metadata": {
    "ExecuteTime": {
     "end_time": "2023-06-09T15:14:05.805006Z",
     "start_time": "2023-06-09T15:14:05.335270Z"
    }
   },
   "outputs": [],
   "source": [
    "#gender - Target Enconding \n",
    "target_encode_gender = df5.groupby('gender')['response'].mean() \n",
    "df5.loc[:, 'gender'] = df5['gender'].map(target_encode_gender) #substitui male por 0.138411 e female por 0.103902\n",
    "\n",
    "#region_code - Target Encoding\n",
    "target_encode_region_code = df5.groupby('region_code')['response'].mean() #substitui pela média das respostas de cada região. \n",
    "df5.loc[:, 'region_code'] = df5['region_code'].map(target_encode_region_code)\n",
    "\n",
    "#vehicle_age - One Hot Encoding \n",
    "df5 = pd.get_dummies(df5, prefix='vehicle_age', columns=['vehicle_age'])\n",
    "\n",
    "#policy_sales_channel - Frequency Encoding \n",
    "fe_policy_sales_channel = df5.groupby('policy_sales_channel').size() / len(df5)\n",
    "df5.loc[:, 'policy_sales_channel'] = df5['policy_sales_channel'].map(fe_policy_sales_channel)"
   ]
  },
  {
   "cell_type": "markdown",
   "id": "c4151a1a",
   "metadata": {},
   "source": [
    "## 5.4 Preparação de Validação"
   ]
  },
  {
   "cell_type": "code",
   "execution_count": 125,
   "id": "6f017312",
   "metadata": {
    "ExecuteTime": {
     "end_time": "2023-06-09T15:14:22.925599Z",
     "start_time": "2023-06-09T15:14:22.750706Z"
    }
   },
   "outputs": [],
   "source": [
    "# gender\n",
    "x_val.loc[:, 'gender'] =  x_val.loc[:, 'gender'].map( target_encode_gender )\n",
    "\n",
    "# age\n",
    "x_val.loc[:, 'age'] = mms_age.transform( x_val[['age']].values )\n",
    "\n",
    "# region_code\n",
    "x_val.loc[:, 'region_code'] = x_val.loc[:, 'region_code'].map( target_encode_region_code )\n",
    "\n",
    "# vehicle_age\n",
    "x_val = pd.get_dummies( x_val, prefix='vehicle_age', columns=['vehicle_age'] )\n",
    "\n",
    "# annual_premium\n",
    "x_val.loc[:, 'annual_premium'] = ss.transform( x_val[['annual_premium']].values )\n",
    "\n",
    "# policy_sales_channel\n",
    "x_val.loc[:, 'policy_sales_channel'] = x_val['policy_sales_channel'].map( fe_policy_sales_channel )\n",
    "\n",
    "# vintage\n",
    "x_val.loc[:, 'vintage'] = mms_vintage.transform( x_val[['vintage']].values )\n",
    "\n",
    "# fillna\n",
    "x_val = x_val.fillna( 0 )"
   ]
  },
  {
   "cell_type": "code",
   "execution_count": 126,
   "id": "1170a2e4",
   "metadata": {
    "ExecuteTime": {
     "end_time": "2023-06-09T15:14:27.760245Z",
     "start_time": "2023-06-09T15:14:27.680295Z"
    }
   },
   "outputs": [
    {
     "data": {
      "text/html": [
       "<div>\n",
       "<style scoped>\n",
       "    .dataframe tbody tr th:only-of-type {\n",
       "        vertical-align: middle;\n",
       "    }\n",
       "\n",
       "    .dataframe tbody tr th {\n",
       "        vertical-align: top;\n",
       "    }\n",
       "\n",
       "    .dataframe thead th {\n",
       "        text-align: right;\n",
       "    }\n",
       "</style>\n",
       "<table border=\"1\" class=\"dataframe\">\n",
       "  <thead>\n",
       "    <tr style=\"text-align: right;\">\n",
       "      <th></th>\n",
       "      <th>id</th>\n",
       "      <th>gender</th>\n",
       "      <th>age</th>\n",
       "      <th>driving_license</th>\n",
       "      <th>region_code</th>\n",
       "      <th>previously_insured</th>\n",
       "      <th>vehicle_damage</th>\n",
       "      <th>annual_premium</th>\n",
       "      <th>policy_sales_channel</th>\n",
       "      <th>vintage</th>\n",
       "      <th>response</th>\n",
       "      <th>vehicle_age_bellow_1_year</th>\n",
       "      <th>vehicle_age_between_1_and_2_years</th>\n",
       "      <th>vehicle_age_over_2_years</th>\n",
       "    </tr>\n",
       "  </thead>\n",
       "  <tbody>\n",
       "    <tr>\n",
       "      <th>261273</th>\n",
       "      <td>261274</td>\n",
       "      <td>0.103676</td>\n",
       "      <td>0.415385</td>\n",
       "      <td>1</td>\n",
       "      <td>0.126227</td>\n",
       "      <td>0</td>\n",
       "      <td>1</td>\n",
       "      <td>0.349612</td>\n",
       "      <td>0.194036</td>\n",
       "      <td>0.256055</td>\n",
       "      <td>1</td>\n",
       "      <td>False</td>\n",
       "      <td>True</td>\n",
       "      <td>False</td>\n",
       "    </tr>\n",
       "    <tr>\n",
       "      <th>31868</th>\n",
       "      <td>31869</td>\n",
       "      <td>0.138158</td>\n",
       "      <td>0.415385</td>\n",
       "      <td>1</td>\n",
       "      <td>0.071603</td>\n",
       "      <td>0</td>\n",
       "      <td>1</td>\n",
       "      <td>-0.035886</td>\n",
       "      <td>0.001656</td>\n",
       "      <td>0.570934</td>\n",
       "      <td>1</td>\n",
       "      <td>False</td>\n",
       "      <td>True</td>\n",
       "      <td>False</td>\n",
       "    </tr>\n",
       "    <tr>\n",
       "      <th>237598</th>\n",
       "      <td>237599</td>\n",
       "      <td>0.138158</td>\n",
       "      <td>0.569231</td>\n",
       "      <td>1</td>\n",
       "      <td>0.186709</td>\n",
       "      <td>0</td>\n",
       "      <td>1</td>\n",
       "      <td>5.138220</td>\n",
       "      <td>0.194036</td>\n",
       "      <td>0.262976</td>\n",
       "      <td>0</td>\n",
       "      <td>False</td>\n",
       "      <td>True</td>\n",
       "      <td>False</td>\n",
       "    </tr>\n",
       "    <tr>\n",
       "      <th>335783</th>\n",
       "      <td>335784</td>\n",
       "      <td>0.103676</td>\n",
       "      <td>0.476923</td>\n",
       "      <td>1</td>\n",
       "      <td>0.095558</td>\n",
       "      <td>0</td>\n",
       "      <td>1</td>\n",
       "      <td>1.150463</td>\n",
       "      <td>0.209081</td>\n",
       "      <td>0.539792</td>\n",
       "      <td>1</td>\n",
       "      <td>False</td>\n",
       "      <td>True</td>\n",
       "      <td>False</td>\n",
       "    </tr>\n",
       "    <tr>\n",
       "      <th>130179</th>\n",
       "      <td>130180</td>\n",
       "      <td>0.103676</td>\n",
       "      <td>0.446154</td>\n",
       "      <td>1</td>\n",
       "      <td>0.186709</td>\n",
       "      <td>1</td>\n",
       "      <td>0</td>\n",
       "      <td>0.008374</td>\n",
       "      <td>0.209081</td>\n",
       "      <td>0.865052</td>\n",
       "      <td>0</td>\n",
       "      <td>False</td>\n",
       "      <td>True</td>\n",
       "      <td>False</td>\n",
       "    </tr>\n",
       "    <tr>\n",
       "      <th>131573</th>\n",
       "      <td>131574</td>\n",
       "      <td>0.103676</td>\n",
       "      <td>0.061538</td>\n",
       "      <td>1</td>\n",
       "      <td>0.082779</td>\n",
       "      <td>1</td>\n",
       "      <td>0</td>\n",
       "      <td>-1.622369</td>\n",
       "      <td>0.353459</td>\n",
       "      <td>0.051903</td>\n",
       "      <td>0</td>\n",
       "      <td>True</td>\n",
       "      <td>False</td>\n",
       "      <td>False</td>\n",
       "    </tr>\n",
       "    <tr>\n",
       "      <th>165442</th>\n",
       "      <td>165443</td>\n",
       "      <td>0.103676</td>\n",
       "      <td>0.353846</td>\n",
       "      <td>1</td>\n",
       "      <td>0.186709</td>\n",
       "      <td>0</td>\n",
       "      <td>1</td>\n",
       "      <td>0.398692</td>\n",
       "      <td>0.209081</td>\n",
       "      <td>0.858131</td>\n",
       "      <td>0</td>\n",
       "      <td>False</td>\n",
       "      <td>True</td>\n",
       "      <td>False</td>\n",
       "    </tr>\n",
       "    <tr>\n",
       "      <th>98627</th>\n",
       "      <td>98628</td>\n",
       "      <td>0.138158</td>\n",
       "      <td>0.076923</td>\n",
       "      <td>1</td>\n",
       "      <td>0.098854</td>\n",
       "      <td>0</td>\n",
       "      <td>1</td>\n",
       "      <td>1.789552</td>\n",
       "      <td>0.353459</td>\n",
       "      <td>0.910035</td>\n",
       "      <td>0</td>\n",
       "      <td>True</td>\n",
       "      <td>False</td>\n",
       "      <td>False</td>\n",
       "    </tr>\n",
       "    <tr>\n",
       "      <th>162783</th>\n",
       "      <td>162784</td>\n",
       "      <td>0.103676</td>\n",
       "      <td>0.323077</td>\n",
       "      <td>1</td>\n",
       "      <td>0.080260</td>\n",
       "      <td>1</td>\n",
       "      <td>0</td>\n",
       "      <td>-0.198693</td>\n",
       "      <td>0.194036</td>\n",
       "      <td>0.709343</td>\n",
       "      <td>0</td>\n",
       "      <td>False</td>\n",
       "      <td>True</td>\n",
       "      <td>False</td>\n",
       "    </tr>\n",
       "    <tr>\n",
       "      <th>340545</th>\n",
       "      <td>340546</td>\n",
       "      <td>0.103676</td>\n",
       "      <td>0.046154</td>\n",
       "      <td>1</td>\n",
       "      <td>0.063421</td>\n",
       "      <td>1</td>\n",
       "      <td>0</td>\n",
       "      <td>-0.289535</td>\n",
       "      <td>0.353459</td>\n",
       "      <td>0.380623</td>\n",
       "      <td>0</td>\n",
       "      <td>True</td>\n",
       "      <td>False</td>\n",
       "      <td>False</td>\n",
       "    </tr>\n",
       "  </tbody>\n",
       "</table>\n",
       "</div>"
      ],
      "text/plain": [
       "            id   gender      age  driving_license  region_code   \n",
       "261273  261274 0.103676 0.415385                1     0.126227  \\\n",
       "31868    31869 0.138158 0.415385                1     0.071603   \n",
       "237598  237599 0.138158 0.569231                1     0.186709   \n",
       "335783  335784 0.103676 0.476923                1     0.095558   \n",
       "130179  130180 0.103676 0.446154                1     0.186709   \n",
       "131573  131574 0.103676 0.061538                1     0.082779   \n",
       "165442  165443 0.103676 0.353846                1     0.186709   \n",
       "98627    98628 0.138158 0.076923                1     0.098854   \n",
       "162783  162784 0.103676 0.323077                1     0.080260   \n",
       "340545  340546 0.103676 0.046154                1     0.063421   \n",
       "\n",
       "        previously_insured  vehicle_damage  annual_premium   \n",
       "261273                   0               1        0.349612  \\\n",
       "31868                    0               1       -0.035886   \n",
       "237598                   0               1        5.138220   \n",
       "335783                   0               1        1.150463   \n",
       "130179                   1               0        0.008374   \n",
       "131573                   1               0       -1.622369   \n",
       "165442                   0               1        0.398692   \n",
       "98627                    0               1        1.789552   \n",
       "162783                   1               0       -0.198693   \n",
       "340545                   1               0       -0.289535   \n",
       "\n",
       "        policy_sales_channel  vintage  response  vehicle_age_bellow_1_year   \n",
       "261273              0.194036 0.256055         1                      False  \\\n",
       "31868               0.001656 0.570934         1                      False   \n",
       "237598              0.194036 0.262976         0                      False   \n",
       "335783              0.209081 0.539792         1                      False   \n",
       "130179              0.209081 0.865052         0                      False   \n",
       "131573              0.353459 0.051903         0                       True   \n",
       "165442              0.209081 0.858131         0                      False   \n",
       "98627               0.353459 0.910035         0                       True   \n",
       "162783              0.194036 0.709343         0                      False   \n",
       "340545              0.353459 0.380623         0                       True   \n",
       "\n",
       "        vehicle_age_between_1_and_2_years  vehicle_age_over_2_years  \n",
       "261273                               True                     False  \n",
       "31868                                True                     False  \n",
       "237598                               True                     False  \n",
       "335783                               True                     False  \n",
       "130179                               True                     False  \n",
       "131573                              False                     False  \n",
       "165442                               True                     False  \n",
       "98627                               False                     False  \n",
       "162783                               True                     False  \n",
       "340545                              False                     False  "
      ]
     },
     "execution_count": 126,
     "metadata": {},
     "output_type": "execute_result"
    }
   ],
   "source": [
    "df5.head(10)"
   ]
  },
  {
   "cell_type": "markdown",
   "id": "978b0b13",
   "metadata": {},
   "source": [
    "# 6.0 Seleção de Dados"
   ]
  },
  {
   "cell_type": "code",
   "execution_count": 127,
   "id": "597f3d51",
   "metadata": {
    "ExecuteTime": {
     "end_time": "2023-06-09T15:17:39.816295Z",
     "start_time": "2023-06-09T15:15:05.441899Z"
    },
    "scrolled": false
   },
   "outputs": [
    {
     "data": {
      "text/html": [
       "<style>#sk-container-id-2 {color: black;background-color: white;}#sk-container-id-2 pre{padding: 0;}#sk-container-id-2 div.sk-toggleable {background-color: white;}#sk-container-id-2 label.sk-toggleable__label {cursor: pointer;display: block;width: 100%;margin-bottom: 0;padding: 0.3em;box-sizing: border-box;text-align: center;}#sk-container-id-2 label.sk-toggleable__label-arrow:before {content: \"▸\";float: left;margin-right: 0.25em;color: #696969;}#sk-container-id-2 label.sk-toggleable__label-arrow:hover:before {color: black;}#sk-container-id-2 div.sk-estimator:hover label.sk-toggleable__label-arrow:before {color: black;}#sk-container-id-2 div.sk-toggleable__content {max-height: 0;max-width: 0;overflow: hidden;text-align: left;background-color: #f0f8ff;}#sk-container-id-2 div.sk-toggleable__content pre {margin: 0.2em;color: black;border-radius: 0.25em;background-color: #f0f8ff;}#sk-container-id-2 input.sk-toggleable__control:checked~div.sk-toggleable__content {max-height: 200px;max-width: 100%;overflow: auto;}#sk-container-id-2 input.sk-toggleable__control:checked~label.sk-toggleable__label-arrow:before {content: \"▾\";}#sk-container-id-2 div.sk-estimator input.sk-toggleable__control:checked~label.sk-toggleable__label {background-color: #d4ebff;}#sk-container-id-2 div.sk-label input.sk-toggleable__control:checked~label.sk-toggleable__label {background-color: #d4ebff;}#sk-container-id-2 input.sk-hidden--visually {border: 0;clip: rect(1px 1px 1px 1px);clip: rect(1px, 1px, 1px, 1px);height: 1px;margin: -1px;overflow: hidden;padding: 0;position: absolute;width: 1px;}#sk-container-id-2 div.sk-estimator {font-family: monospace;background-color: #f0f8ff;border: 1px dotted black;border-radius: 0.25em;box-sizing: border-box;margin-bottom: 0.5em;}#sk-container-id-2 div.sk-estimator:hover {background-color: #d4ebff;}#sk-container-id-2 div.sk-parallel-item::after {content: \"\";width: 100%;border-bottom: 1px solid gray;flex-grow: 1;}#sk-container-id-2 div.sk-label:hover label.sk-toggleable__label {background-color: #d4ebff;}#sk-container-id-2 div.sk-serial::before {content: \"\";position: absolute;border-left: 1px solid gray;box-sizing: border-box;top: 0;bottom: 0;left: 50%;z-index: 0;}#sk-container-id-2 div.sk-serial {display: flex;flex-direction: column;align-items: center;background-color: white;padding-right: 0.2em;padding-left: 0.2em;position: relative;}#sk-container-id-2 div.sk-item {position: relative;z-index: 1;}#sk-container-id-2 div.sk-parallel {display: flex;align-items: stretch;justify-content: center;background-color: white;position: relative;}#sk-container-id-2 div.sk-item::before, #sk-container-id-2 div.sk-parallel-item::before {content: \"\";position: absolute;border-left: 1px solid gray;box-sizing: border-box;top: 0;bottom: 0;left: 50%;z-index: -1;}#sk-container-id-2 div.sk-parallel-item {display: flex;flex-direction: column;z-index: 1;position: relative;background-color: white;}#sk-container-id-2 div.sk-parallel-item:first-child::after {align-self: flex-end;width: 50%;}#sk-container-id-2 div.sk-parallel-item:last-child::after {align-self: flex-start;width: 50%;}#sk-container-id-2 div.sk-parallel-item:only-child::after {width: 0;}#sk-container-id-2 div.sk-dashed-wrapped {border: 1px dashed gray;margin: 0 0.4em 0.5em 0.4em;box-sizing: border-box;padding-bottom: 0.4em;background-color: white;}#sk-container-id-2 div.sk-label label {font-family: monospace;font-weight: bold;display: inline-block;line-height: 1.2em;}#sk-container-id-2 div.sk-label-container {text-align: center;}#sk-container-id-2 div.sk-container {/* jupyter's `normalize.less` sets `[hidden] { display: none; }` but bootstrap.min.css set `[hidden] { display: none !important; }` so we also need the `!important` here to be able to override the default hidden behavior on the sphinx rendered scikit-learn.org. See: https://github.com/scikit-learn/scikit-learn/issues/21755 */display: inline-block !important;position: relative;}#sk-container-id-2 div.sk-text-repr-fallback {display: none;}</style><div id=\"sk-container-id-2\" class=\"sk-top-container\"><div class=\"sk-text-repr-fallback\"><pre>ExtraTreesClassifier(n_estimators=250, n_jobs=-1, random_state=0)</pre><b>In a Jupyter environment, please rerun this cell to show the HTML representation or trust the notebook. <br />On GitHub, the HTML representation is unable to render, please try loading this page with nbviewer.org.</b></div><div class=\"sk-container\" hidden><div class=\"sk-item\"><div class=\"sk-estimator sk-toggleable\"><input class=\"sk-toggleable__control sk-hidden--visually\" id=\"sk-estimator-id-2\" type=\"checkbox\" checked><label for=\"sk-estimator-id-2\" class=\"sk-toggleable__label sk-toggleable__label-arrow\">ExtraTreesClassifier</label><div class=\"sk-toggleable__content\"><pre>ExtraTreesClassifier(n_estimators=250, n_jobs=-1, random_state=0)</pre></div></div></div></div></div>"
      ],
      "text/plain": [
       "ExtraTreesClassifier(n_estimators=250, n_jobs=-1, random_state=0)"
      ]
     },
     "execution_count": 127,
     "metadata": {},
     "output_type": "execute_result"
    }
   ],
   "source": [
    "#Como o boruta só selecionou 2 features, fiz por importância das árvores. \n",
    "\n",
    "#definição do modelo  \n",
    "forest = en.ExtraTreesClassifier(n_estimators = 250, random_state = 0, n_jobs = -1)\n",
    "\n",
    "#preparação dos dados\n",
    "x_train_n = df5.drop(['id', 'response'], axis = 1)\n",
    "y_train_n = y_train.values\n",
    "forest.fit(x_train_n, y_train_n) #informações no bloco de anotações. "
   ]
  },
  {
   "cell_type": "code",
   "execution_count": 128,
   "id": "b343e738",
   "metadata": {
    "ExecuteTime": {
     "end_time": "2023-06-09T15:18:25.908087Z",
     "start_time": "2023-06-09T15:18:09.394439Z"
    },
    "hide_input": false,
    "scrolled": false
   },
   "outputs": [
    {
     "name": "stdout",
     "output_type": "stream",
     "text": [
      "Feature ranking:\n",
      "                             feature  importance\n",
      "0                            vintage    0.273136\n",
      "0                     annual_premium    0.245345\n",
      "0                                age    0.163631\n",
      "0                        region_code    0.106639\n",
      "0                     vehicle_damage    0.068667\n",
      "0               policy_sales_channel    0.059444\n",
      "0                 previously_insured    0.055129\n",
      "0          vehicle_age_bellow_1_year    0.014239\n",
      "0  vehicle_age_between_1_and_2_years    0.006121\n",
      "0                             gender    0.004834\n",
      "0           vehicle_age_over_2_years    0.002292\n",
      "0                    driving_license    0.000524\n"
     ]
    },
    {
     "data": {
      "image/png": "[encoded data removed]",
      "text/plain": [
       "<Figure size 640x480 with 1 Axes>"
      ]
     },
     "metadata": {},
     "output_type": "display_data"
    }
   ],
   "source": [
    "#gera um array com a importância das features\n",
    "importances = forest.feature_importances_\n",
    "\n",
    "#desvio-padrão de importâncias\n",
    "std = np.std([tree.feature_importances_ for tree in forest.estimators_], axis=0) \n",
    "\n",
    "#índices das importâncias em ordem decrescente. \n",
    "indices = np.argsort(importances)[::-1]\n",
    "\n",
    "# Printa o ranking de features\n",
    "df = pd.DataFrame()\n",
    "\n",
    "print(\"Feature ranking:\")\n",
    "for i,j in zip(x_train_n, importances): \n",
    "    aux = pd.DataFrame({'feature': i, 'importance': j}, index = [0])\n",
    "    df = pd.concat([df, aux], axis = 0)\n",
    "    \n",
    "print( df.sort_values( 'importance', ascending=False ) )\n",
    "\n",
    "# Plota as importâncias das features baseadas em impurezas de gini. \n",
    "\n",
    "plt.figure() \n",
    "plt.title('Features Importance')\n",
    "plt.bar(x = range(0, 12), height = importances[indices], color = 'red', yerr = std, align = 'center') \n",
    "plt.xticks(ticks = range(0,12), labels = indices)\n",
    "plt.xlim([-1, x_train_n.shape[1]])\n",
    "plt.show()"
   ]
  },
  {
   "cell_type": "markdown",
   "id": "56b53425",
   "metadata": {},
   "source": [
    "# 7.0 Machine Learning"
   ]
  },
  {
   "cell_type": "code",
   "execution_count": 129,
   "id": "7d88b174",
   "metadata": {
    "ExecuteTime": {
     "end_time": "2023-06-09T15:18:57.734772Z",
     "start_time": "2023-06-09T15:18:57.344776Z"
    }
   },
   "outputs": [],
   "source": [
    "cols_selected = ['annual_premium', 'vintage', 'age', 'region_code', 'vehicle_damage', 'previously_insured',\n",
    "                 'policy_sales_channel']\n",
    "\n",
    "x_train = df5[cols_selected]\n",
    "x_val = x_val[ cols_selected ]"
   ]
  },
  {
   "cell_type": "code",
   "execution_count": 130,
   "id": "0b026593",
   "metadata": {
    "ExecuteTime": {
     "end_time": "2023-06-09T15:19:21.332138Z",
     "start_time": "2023-06-09T15:19:00.193793Z"
    }
   },
   "outputs": [],
   "source": [
    "#definição do modelo\n",
    "knn_model = nh.KNeighborsClassifier( n_neighbors=7 )\n",
    "\n",
    "#treinamento do modelo\n",
    "knn_model.fit(x_train, y_train)\n",
    "\n",
    "#predição com o modelo \n",
    "yhat_knn = knn_model.predict_proba(x_val)"
   ]
  },
  {
   "cell_type": "code",
   "execution_count": null,
   "id": "d5300778",
   "metadata": {},
   "outputs": [],
   "source": [
    "# comentário 1.0 nas anotações "
   ]
  },
  {
   "cell_type": "code",
   "execution_count": 131,
   "id": "88366b08",
   "metadata": {
    "ExecuteTime": {
     "end_time": "2023-06-09T15:19:27.890762Z",
     "start_time": "2023-06-09T15:19:27.033289Z"
    }
   },
   "outputs": [
    {
     "data": {
      "image/png": "[encoded data removed]",
      "text/plain": [
       "<Figure size 640x480 with 1 Axes>"
      ]
     },
     "metadata": {},
     "output_type": "display_data"
    }
   ],
   "source": [
    "skplt.metrics.plot_cumulative_gain(y_val, yhat_knn); "
   ]
  },
  {
   "cell_type": "code",
   "execution_count": null,
   "id": "73cb5ce4",
   "metadata": {},
   "outputs": [],
   "source": []
  }
 ],
 "metadata": {
  "kernelspec": {
   "display_name": "Python 3 (ipykernel)",
   "language": "python",
   "name": "python3"
  },
  "language_info": {
   "codemirror_mode": {
    "name": "ipython",
    "version": 3
   },
   "file_extension": ".py",
   "mimetype": "text/x-python",
   "name": "python",
   "nbconvert_exporter": "python",
   "pygments_lexer": "ipython3",
   "version": "3.9.16"
  },
  "varInspector": {
   "cols": {
    "lenName": 16,
    "lenType": 16,
    "lenVar": 40
   },
   "kernels_config": {
    "python": {
     "delete_cmd_postfix": "",
     "delete_cmd_prefix": "del ",
     "library": "var_list.py",
     "varRefreshCmd": "print(var_dic_list())"
    },
    "r": {
     "delete_cmd_postfix": ") ",
     "delete_cmd_prefix": "rm(",
     "library": "var_list.r",
     "varRefreshCmd": "cat(var_dic_list()) "
    }
   },
   "types_to_exclude": [
    "module",
    "function",
    "builtin_function_or_method",
    "instance",
    "_Feature"
   ],
   "window_display": false
  }
 },
 "nbformat": 4,
 "nbformat_minor": 5
}
